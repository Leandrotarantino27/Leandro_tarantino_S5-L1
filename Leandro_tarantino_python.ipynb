{
 "cells": [
  {
   "cell_type": "code",
   "execution_count": 2,
   "id": "e51d1cbc-3ee3-4558-bb49-9df5bb993e55",
   "metadata": {
    "tags": []
   },
   "outputs": [
    {
     "name": "stdout",
     "output_type": "stream",
     "text": [
      "Il totale della quantità è: 15500\n"
     ]
    }
   ],
   "source": [
    "inventario_ = [\"maglioni\", \"jeans\", \"scarpe\", \"calze\"]\n",
    "quantità = {\"maglioni\": 5000, \"jeans\": 3500, \"scarpe\": 5500, \"calze\": 1500}\n",
    "prezzi = {\"maglioni\": 45.99, \"jeans\": 59.99, \"scarpe\": 119.99, \"calze\": 9.99}\n",
    "\n",
    "total = 0\n",
    "for item in inventario_:\n",
    "    total += quantità[item]\n",
    "\n",
    "print(f\"Il totale della quantità è: {total}\")"
   ]
  },
  {
   "cell_type": "code",
   "execution_count": 5,
   "id": "c5eaf854-0a2a-4013-9fc2-094fefb34dd0",
   "metadata": {
    "tags": []
   },
   "outputs": [
    {
     "name": "stdout",
     "output_type": "stream",
     "text": [
      "Il totale del prezzo per maglioni è: 229.950,00 €\n",
      "Il totale del prezzo per jeans è: 209.965,00 €\n",
      "Il totale del prezzo per scarpe è: 659.945,00 €\n",
      "Il totale del prezzo per calze è: 14.985,00 €\n"
     ]
    }
   ],
   "source": [
    "import locale\n",
    "locale.setlocale(locale.LC_ALL, 'it_IT.UTF-8')\n",
    "inventario_ = [\"maglioni\", \"jeans\", \"scarpe\", \"calze\"]\n",
    "quantità = {\"maglioni\": 5000, \"jeans\": 3500, \"scarpe\": 5500, \"calze\": 1500}\n",
    "prezzi = {\"maglioni\": 45.99, \"jeans\": 59.99, \"scarpe\": 119.99, \"calze\": 9.99}\n",
    "\n",
    "total_per_categoria = {}\n",
    "\n",
    "for item in inventario_:\n",
    "    categoria = item\n",
    "    prezzo = prezzi[item]\n",
    "    quantita = quantità[item]\n",
    "    totale = prezzo * quantita\n",
    "  \n",
    "    if categoria in total_per_categoria:total_per_categoria[categoria] += totale\n",
    "    else: total_per_categoria[categoria] = totale\n",
    "for categoria, totale in total_per_categoria.items():\n",
    "    formatted_total = locale.currency(totale, grouping=True, symbol='€')\n",
    "    print(f\"Il totale del prezzo per {categoria} è: {formatted_total}\")"
   ]
  },
  {
   "cell_type": "code",
   "execution_count": 6,
   "id": "12eadfd2-39d2-4478-a18b-85a3fa2df860",
   "metadata": {
    "tags": []
   },
   "outputs": [
    {
     "name": "stdout",
     "output_type": "stream",
     "text": [
      "Il costo totale del tuo inventario è: 1.114.845,00 €.\n",
      "Il totale del prezzo per maglioni è: 229.950,00 €.\n",
      "Il totale del prezzo per jeans è: 209.965,00 €.\n",
      "Il totale del prezzo per scarpe è: 659.945,00 €.\n",
      "Il totale del prezzo per calze è: 14.985,00 €.\n"
     ]
    }
   ],
   "source": [
    "import locale\n",
    "locale.setlocale(locale.LC_ALL, 'it_IT.UTF-8')\n",
    "\n",
    "inventario_ = [\"maglioni\", \"jeans\", \"scarpe\", \"calze\"]\n",
    "quantità = {\"maglioni\": 5000, \"jeans\": 3500, \"scarpe\": 5500, \"calze\": 1500}\n",
    "prezzi = {\"maglioni\": 45.99, \"jeans\": 59.99, \"scarpe\": 119.99, \"calze\": 9.99}\n",
    "\n",
    "total_cost = 0\n",
    "total_per_categoria = {}\n",
    "\n",
    "for item in inventario_:\n",
    "    prezzo = prezzi[item]\n",
    "    quantita = quantità[item]\n",
    "    totale = prezzo * quantita\n",
    "    total_cost += totale\n",
    "    categoria = item\n",
    "    if categoria in total_per_categoria:\n",
    "        total_per_categoria[categoria] += totale\n",
    "    else:\n",
    "        total_per_categoria[categoria] = totale\n",
    "\n",
    "formatted_total_cost = locale.currency(total_cost, grouping=True, symbol='€')\n",
    "print(f\"Il costo totale del tuo inventario è: {formatted_total_cost}.\")\n",
    "\n",
    "for categoria, totale in total_per_categoria.items():\n",
    "    formatted_total = locale.currency(totale, grouping=True, symbol='€')\n",
    "    print(f\"Il totale del prezzo per {categoria} è: {formatted_total}.\")"
   ]
  },
  {
   "cell_type": "code",
   "execution_count": 7,
   "id": "f6c0fa6c-b3e2-48a5-bf9c-e7e0781fe9ed",
   "metadata": {
    "tags": []
   },
   "outputs": [
    {
     "data": {
      "text/plain": [
       "25"
      ]
     },
     "execution_count": 7,
     "metadata": {},
     "output_type": "execute_result"
    }
   ],
   "source": [
    "numero_studenti_ = 25\n",
    "numero_studenti_\n"
   ]
  },
  {
   "cell_type": "code",
   "execution_count": 8,
   "id": "ccc519ad-b6fb-490b-a23a-2b2e5cb71c0a",
   "metadata": {
    "tags": []
   },
   "outputs": [
    {
     "name": "stdout",
     "output_type": "stream",
     "text": [
      "Liceo Margherita 25 studenti\n"
     ]
    }
   ],
   "source": [
    "numero_studenti_ = 25\n",
    "print(f\"Liceo\"\" \"\"Margherita\",numero_studenti_,\"studenti\")"
   ]
  },
  {
   "cell_type": "code",
   "execution_count": 9,
   "id": "4e8b6043-97f8-4920-8a1e-96e01b0fe00e",
   "metadata": {
    "tags": []
   },
   "outputs": [
    {
     "data": {
      "text/plain": [
       "28"
      ]
     },
     "execution_count": 9,
     "metadata": {},
     "output_type": "execute_result"
    }
   ],
   "source": [
    "numero_studenti_= 25\n",
    "nuovi_studenti = 3\n",
    "numero_studenti_=numero_studenti_+nuovi_studenti\n",
    "numero_studenti_"
   ]
  },
  {
   "cell_type": "code",
   "execution_count": 10,
   "id": "6153e9c0-becf-4ac1-a53f-33910f0fd4d5",
   "metadata": {
    "tags": []
   },
   "outputs": [
    {
     "name": "stdout",
     "output_type": "stream",
     "text": [
      "Il nuovo totale di studenti è: 28\n"
     ]
    }
   ],
   "source": [
    "numero_studenti = 25\n",
    "nuovi_studenti = 3\n",
    "nuovo_totale = numero_studenti + nuovi_studenti\n",
    "print(\"Il nuovo totale di studenti è:\", nuovo_totale)"
   ]
  },
  {
   "cell_type": "code",
   "execution_count": 11,
   "id": "eb2fcd45-9971-4060-b198-460f4750f596",
   "metadata": {
    "tags": []
   },
   "outputs": [
    {
     "name": "stdout",
     "output_type": "stream",
     "text": [
      "Epicode\n"
     ]
    }
   ],
   "source": [
    "nome = \"Epicode\"\n",
    "\n",
    "print(nome)"
   ]
  },
  {
   "cell_type": "code",
   "execution_count": 12,
   "id": "bf275fbc-21ae-423a-90c4-5fc246e1ebeb",
   "metadata": {
    "tags": []
   },
   "outputs": [
    {
     "name": "stdout",
     "output_type": "stream",
     "text": [
      "[0, 1, 2, 3, 4, 5]\n"
     ]
    }
   ],
   "source": [
    "numeri = [0, 1, 2, 3, 4, 5]\n",
    "\n",
    "print(numeri)"
   ]
  },
  {
   "cell_type": "code",
   "execution_count": 13,
   "id": "43c5077d-bab5-43c5-9681-b1f5f8eb14bf",
   "metadata": {
    "tags": []
   },
   "outputs": [
    {
     "name": "stdout",
     "output_type": "stream",
     "text": [
      "L'iniziale della stringa è: E\n"
     ]
    }
   ],
   "source": [
    "nome_scuola = \"Epicode\"\n",
    "print(\"L'iniziale della stringa è:\", nome_scuola[0])"
   ]
  },
  {
   "cell_type": "code",
   "execution_count": 14,
   "id": "435cded2-a951-49c2-abc3-99e551533e15",
   "metadata": {
    "tags": []
   },
   "outputs": [
    {
     "name": "stdout",
     "output_type": "stream",
     "text": [
      "Le prime tre lettere della stringa sono: Epi\n"
     ]
    }
   ],
   "source": [
    "nome_scuola = \"Epicode\"\n",
    "print(\"Le prime tre lettere della stringa sono:\", nome_scuola[:3])"
   ]
  },
  {
   "cell_type": "code",
   "execution_count": 27,
   "id": "3ce9d71e-4eb5-4a9c-8a43-bfe71eb610c9",
   "metadata": {
    "tags": []
   },
   "outputs": [
    {
     "name": "stdout",
     "output_type": "stream",
     "text": [
      "Metodo 1: Il risultato è 36\n",
      "Metodo 2: Il risultato è 42\n"
     ]
    }
   ],
   "source": [
    "x = 10\n",
    "x += 2\n",
    "risultato_1 = x * 3\n",
    "y = x + 2\n",
    "risultato_2 = y * 3\n",
    "print(\"Metodo 1: Il risultato è\", risultato_1)\n",
    "print(\"Metodo 2: Il risultato è\", risultato_2)"
   ]
  },
  {
   "cell_type": "code",
   "execution_count": 32,
   "id": "fafadf64-0e93-4f33-96e4-6481ae70b00f",
   "metadata": {
    "tags": []
   },
   "outputs": [
    {
     "name": "stdin",
     "output_type": "stream",
     "text": [
      "Inserisci una stringa:  Rampage_rasing\n"
     ]
    },
    {
     "name": "stdout",
     "output_type": "stream",
     "text": [
      "Ram...ing\n"
     ]
    }
   ],
   "source": [
    "stringa = input(\"Inserisci una stringa: \")\n",
    "primi_tre = stringa[:3]\n",
    "ultimi_tre = stringa[-3:]\n",
    "print(primi_tre + \"...\" + ultimi_tre)"
   ]
  },
  {
   "cell_type": "code",
   "execution_count": 33,
   "id": "d9f7be9c-8e78-49f2-8c6b-faa577a55501",
   "metadata": {
    "tags": []
   },
   "outputs": [
    {
     "name": "stdout",
     "output_type": "stream",
     "text": [
      "Windows ha 7 caratteri ed è compresa tra 5 e 8 caratteri.\n",
      "Excel ha 5 caratteri ed è compresa tra 5 e 8 caratteri.\n",
      "Powerpoint ha 10 caratteri ed è fuori dal range di 5-8 caratteri.\n",
      "Word ha 4 caratteri ed è fuori dal range di 5-8 caratteri.\n"
     ]
    }
   ],
   "source": [
    "stringhe = [\"Windows\", \"Excel\", \"Powerpoint\", \"Word\"]\n",
    "for stringa in stringhe:\n",
    "    lunghezza = len(stringa)\n",
    "    if 5 <= lunghezza <= 8:\n",
    "        print(stringa, \"ha\", lunghezza, \"caratteri ed è compresa tra 5 e 8 caratteri.\")\n",
    "    else:\n",
    "        print(stringa, \"ha\", lunghezza, \"caratteri ed è fuori dal range di 5-8 caratteri.\")"
   ]
  },
  {
   "cell_type": "code",
   "execution_count": null,
   "id": "3aed237b-2c7f-4eda-a9b2-22df60be3ed7",
   "metadata": {
    "tags": []
   },
   "outputs": [],
   "source": [
    "import itertools\n",
    "elementi = input(\"Inserisci gli elementi separati da uno spazio: \")\n",
    "\n",
    "\n",
    "lista_elementi = elementi.split()\n",
    "\n",
    "\n",
    "combinazioni = []\n",
    "for i in range(1, len(lista_elementi) + 1):\n",
    "    combinazioni += list(itertools.combinations(lista_elementi, i))\n",
    "\n",
    "print(\"Le possibili combinazioni degli elementi sono:\")\n",
    "for combinazione in combinazioni:\n",
    "    print(combinazione)"
   ]
  },
  {
   "cell_type": "code",
   "execution_count": null,
   "id": "602f9f41-2a26-4b53-a76c-6aad9644f2a0",
   "metadata": {},
   "outputs": [],
   "source": []
  }
 ],
 "metadata": {
  "kernelspec": {
   "display_name": "Python 3 (ipykernel)",
   "language": "python",
   "name": "python3"
  },
  "language_info": {
   "codemirror_mode": {
    "name": "ipython",
    "version": 3
   },
   "file_extension": ".py",
   "mimetype": "text/x-python",
   "name": "python",
   "nbconvert_exporter": "python",
   "pygments_lexer": "ipython3",
   "version": "3.11.5"
  }
 },
 "nbformat": 4,
 "nbformat_minor": 5
}
